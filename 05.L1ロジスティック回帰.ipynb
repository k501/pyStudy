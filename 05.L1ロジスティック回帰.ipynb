{
 "cells": [
  {
   "cell_type": "code",
   "execution_count": 1,
   "metadata": {
    "collapsed": true
   },
   "outputs": [],
   "source": [
    "from sklearn.linear_model import LogisticRegression\n",
    "import pandas as pd\n",
    "import numpy as np \n",
    "import matplotlib.pyplot as plt\n",
    "\n",
    "# グラフをブラウザ内に表示\n",
    "%matplotlib inline"
   ]
  },
  {
   "cell_type": "markdown",
   "metadata": {},
   "source": [
    "\n",
    "## データ読み込み"
   ]
  },
  {
   "cell_type": "code",
   "execution_count": 18,
   "metadata": {
    "collapsed": false
   },
   "outputs": [],
   "source": [
    "X_train_std = pd.read_csv('data/wine_X_train_st.csv')\n",
    "y_train = pd.read_csv('data/wine_y_train.csv')"
   ]
  },
  {
   "cell_type": "code",
   "execution_count": 19,
   "metadata": {
    "collapsed": true
   },
   "outputs": [],
   "source": [
    "X_test_std = pd.read_csv('data/wine_X_test_st.csv')\n",
    "y_test = pd.read_csv('data/wine_y_test.csv')"
   ]
  },
  {
   "cell_type": "code",
   "execution_count": 21,
   "metadata": {
    "collapsed": true
   },
   "outputs": [],
   "source": [
    "df_wine = pd.read_csv('data/wine.csv')"
   ]
  },
  {
   "cell_type": "code",
   "execution_count": 22,
   "metadata": {
    "collapsed": false
   },
   "outputs": [
    {
     "data": {
      "text/html": [
       "<div>\n",
       "<table border=\"1\" class=\"dataframe\">\n",
       "  <thead>\n",
       "    <tr style=\"text-align: right;\">\n",
       "      <th></th>\n",
       "      <th>alcohol</th>\n",
       "      <th>malic-acid</th>\n",
       "      <th>ash</th>\n",
       "      <th>alcalinity-ash</th>\n",
       "      <th>magnesium</th>\n",
       "      <th>total-phenols</th>\n",
       "      <th>flavanoids</th>\n",
       "      <th>nonflavanoid-phenols</th>\n",
       "      <th>proanthocyanins</th>\n",
       "      <th>color-intensity</th>\n",
       "      <th>hue</th>\n",
       "      <th>diluted-wine</th>\n",
       "      <th>profile</th>\n",
       "    </tr>\n",
       "  </thead>\n",
       "  <tbody>\n",
       "    <tr>\n",
       "      <th>0</th>\n",
       "      <td>0.910831</td>\n",
       "      <td>-0.462599</td>\n",
       "      <td>-0.011426</td>\n",
       "      <td>-0.820679</td>\n",
       "      <td>0.062417</td>\n",
       "      <td>0.588204</td>\n",
       "      <td>0.935654</td>\n",
       "      <td>-0.761914</td>\n",
       "      <td>0.130072</td>\n",
       "      <td>-0.512387</td>\n",
       "      <td>0.657066</td>\n",
       "      <td>1.943545</td>\n",
       "      <td>0.937010</td>\n",
       "    </tr>\n",
       "    <tr>\n",
       "      <th>1</th>\n",
       "      <td>-0.956099</td>\n",
       "      <td>-0.966087</td>\n",
       "      <td>-1.537254</td>\n",
       "      <td>-0.147487</td>\n",
       "      <td>-0.554019</td>\n",
       "      <td>0.169986</td>\n",
       "      <td>0.072432</td>\n",
       "      <td>0.207913</td>\n",
       "      <td>0.784626</td>\n",
       "      <td>-0.982107</td>\n",
       "      <td>-0.408595</td>\n",
       "      <td>0.581180</td>\n",
       "      <td>-1.413367</td>\n",
       "    </tr>\n",
       "    <tr>\n",
       "      <th>2</th>\n",
       "      <td>0.359522</td>\n",
       "      <td>1.675016</td>\n",
       "      <td>-0.374718</td>\n",
       "      <td>0.133010</td>\n",
       "      <td>1.363782</td>\n",
       "      <td>-1.118128</td>\n",
       "      <td>-1.314889</td>\n",
       "      <td>0.531189</td>\n",
       "      <td>-0.440566</td>\n",
       "      <td>2.220529</td>\n",
       "      <td>-1.559509</td>\n",
       "      <td>-1.448466</td>\n",
       "      <td>0.286837</td>\n",
       "    </tr>\n",
       "    <tr>\n",
       "      <th>3</th>\n",
       "      <td>0.221695</td>\n",
       "      <td>1.047864</td>\n",
       "      <td>-0.774340</td>\n",
       "      <td>0.413506</td>\n",
       "      <td>0.130910</td>\n",
       "      <td>-1.268687</td>\n",
       "      <td>-1.458759</td>\n",
       "      <td>0.531189</td>\n",
       "      <td>-0.524483</td>\n",
       "      <td>-0.426984</td>\n",
       "      <td>-1.516883</td>\n",
       "      <td>-1.281645</td>\n",
       "      <td>0.270582</td>\n",
       "    </tr>\n",
       "    <tr>\n",
       "      <th>4</th>\n",
       "      <td>1.098777</td>\n",
       "      <td>-0.771758</td>\n",
       "      <td>1.114780</td>\n",
       "      <td>1.535493</td>\n",
       "      <td>-0.964977</td>\n",
       "      <td>1.156982</td>\n",
       "      <td>0.915101</td>\n",
       "      <td>-1.246827</td>\n",
       "      <td>0.432174</td>\n",
       "      <td>-0.691735</td>\n",
       "      <td>1.722727</td>\n",
       "      <td>0.775804</td>\n",
       "      <td>-1.094782</td>\n",
       "    </tr>\n",
       "  </tbody>\n",
       "</table>\n",
       "</div>"
      ],
      "text/plain": [
       "    alcohol  malic-acid       ash  alcalinity-ash  magnesium  total-phenols  \\\n",
       "0  0.910831   -0.462599 -0.011426       -0.820679   0.062417       0.588204   \n",
       "1 -0.956099   -0.966087 -1.537254       -0.147487  -0.554019       0.169986   \n",
       "2  0.359522    1.675016 -0.374718        0.133010   1.363782      -1.118128   \n",
       "3  0.221695    1.047864 -0.774340        0.413506   0.130910      -1.268687   \n",
       "4  1.098777   -0.771758  1.114780        1.535493  -0.964977       1.156982   \n",
       "\n",
       "   flavanoids  nonflavanoid-phenols  proanthocyanins  color-intensity  \\\n",
       "0    0.935654             -0.761914         0.130072        -0.512387   \n",
       "1    0.072432              0.207913         0.784626        -0.982107   \n",
       "2   -1.314889              0.531189        -0.440566         2.220529   \n",
       "3   -1.458759              0.531189        -0.524483        -0.426984   \n",
       "4    0.915101             -1.246827         0.432174        -0.691735   \n",
       "\n",
       "        hue  diluted-wine   profile  \n",
       "0  0.657066      1.943545  0.937010  \n",
       "1 -0.408595      0.581180 -1.413367  \n",
       "2 -1.559509     -1.448466  0.286837  \n",
       "3 -1.516883     -1.281645  0.270582  \n",
       "4  1.722727      0.775804 -1.094782  "
      ]
     },
     "execution_count": 22,
     "metadata": {},
     "output_type": "execute_result"
    }
   ],
   "source": [
    "X_train_std.head()"
   ]
  },
  {
   "cell_type": "markdown",
   "metadata": {},
   "source": [
    "## L1正則化ロジスティック回帰"
   ]
  },
  {
   "cell_type": "code",
   "execution_count": 23,
   "metadata": {
    "collapsed": false
   },
   "outputs": [
    {
     "data": {
      "text/plain": [
       "LogisticRegression(C=1.0, class_weight=None, dual=False, fit_intercept=True,\n",
       "          intercept_scaling=1, max_iter=100, multi_class='ovr', n_jobs=1,\n",
       "          penalty='l1', random_state=None, solver='liblinear', tol=0.0001,\n",
       "          verbose=0, warm_start=False)"
      ]
     },
     "execution_count": 23,
     "metadata": {},
     "output_type": "execute_result"
    }
   ],
   "source": [
    "LogisticRegression(penalty='l1')"
   ]
  },
  {
   "cell_type": "code",
   "execution_count": 24,
   "metadata": {
    "collapsed": true
   },
   "outputs": [],
   "source": [
    "lr = LogisticRegression(penalty='l1', C=0.1)"
   ]
  },
  {
   "cell_type": "code",
   "execution_count": 25,
   "metadata": {
    "collapsed": false
   },
   "outputs": [
    {
     "name": "stderr",
     "output_type": "stream",
     "text": [
      "/usr/local/opt/pyenv/versions/anaconda3-4.0.0/lib/python3.5/site-packages/sklearn/utils/validation.py:515: DataConversionWarning: A column-vector y was passed when a 1d array was expected. Please change the shape of y to (n_samples, ), for example using ravel().\n",
      "  y = column_or_1d(y, warn=True)\n"
     ]
    },
    {
     "data": {
      "text/plain": [
       "LogisticRegression(C=0.1, class_weight=None, dual=False, fit_intercept=True,\n",
       "          intercept_scaling=1, max_iter=100, multi_class='ovr', n_jobs=1,\n",
       "          penalty='l1', random_state=None, solver='liblinear', tol=0.0001,\n",
       "          verbose=0, warm_start=False)"
      ]
     },
     "execution_count": 25,
     "metadata": {},
     "output_type": "execute_result"
    }
   ],
   "source": [
    "lr.fit(X_train_std, y_train)"
   ]
  },
  {
   "cell_type": "code",
   "execution_count": 13,
   "metadata": {
    "collapsed": false
   },
   "outputs": [
    {
     "name": "stdout",
     "output_type": "stream",
     "text": [
      "Training accuracy : 0.983870967742\n"
     ]
    }
   ],
   "source": [
    "print('Training accuracy :', lr.score(X_train_std, y_train))"
   ]
  },
  {
   "cell_type": "code",
   "execution_count": 14,
   "metadata": {
    "collapsed": false
   },
   "outputs": [
    {
     "name": "stdout",
     "output_type": "stream",
     "text": [
      "Test accuracy : 0.981481481481\n"
     ]
    }
   ],
   "source": [
    "print('Test accuracy :', lr.score(X_test_std, y_test))"
   ]
  },
  {
   "cell_type": "code",
   "execution_count": 15,
   "metadata": {
    "collapsed": false
   },
   "outputs": [
    {
     "data": {
      "text/plain": [
       "array([[ 0.28024196,  0.        ,  0.        , -0.02778865,  0.        ,\n",
       "         0.        ,  0.71012339,  0.        ,  0.        ,  0.        ,\n",
       "         0.        ,  0.        ,  1.2361308 ],\n",
       "       [-0.64401226, -0.06874934, -0.05719454,  0.        ,  0.        ,\n",
       "         0.        ,  0.        ,  0.        ,  0.        , -0.92671481,\n",
       "         0.06018969,  0.        , -0.37104642],\n",
       "       [ 0.        ,  0.06158987,  0.        ,  0.        ,  0.        ,\n",
       "         0.        , -0.63546614,  0.        ,  0.        ,  0.49785408,\n",
       "        -0.35828629, -0.57173588,  0.        ]])"
      ]
     },
     "execution_count": 15,
     "metadata": {},
     "output_type": "execute_result"
    }
   ],
   "source": [
    "# 重み係数の表示\n",
    "lr.coef_"
   ]
  },
  {
   "cell_type": "markdown",
   "metadata": {
    "collapsed": true
   },
   "source": [
    "## L1正則化の係数"
   ]
  },
  {
   "cell_type": "code",
   "execution_count": 16,
   "metadata": {
    "collapsed": false
   },
   "outputs": [
    {
     "name": "stderr",
     "output_type": "stream",
     "text": [
      "/usr/local/opt/pyenv/versions/anaconda3-4.0.0/lib/python3.5/site-packages/sklearn/utils/validation.py:515: DataConversionWarning: A column-vector y was passed when a 1d array was expected. Please change the shape of y to (n_samples, ), for example using ravel().\n",
      "  y = column_or_1d(y, warn=True)\n",
      "/usr/local/opt/pyenv/versions/anaconda3-4.0.0/lib/python3.5/site-packages/sklearn/utils/validation.py:515: DataConversionWarning: A column-vector y was passed when a 1d array was expected. Please change the shape of y to (n_samples, ), for example using ravel().\n",
      "  y = column_or_1d(y, warn=True)\n",
      "/usr/local/opt/pyenv/versions/anaconda3-4.0.0/lib/python3.5/site-packages/sklearn/utils/validation.py:515: DataConversionWarning: A column-vector y was passed when a 1d array was expected. Please change the shape of y to (n_samples, ), for example using ravel().\n",
      "  y = column_or_1d(y, warn=True)\n",
      "/usr/local/opt/pyenv/versions/anaconda3-4.0.0/lib/python3.5/site-packages/sklearn/utils/validation.py:515: DataConversionWarning: A column-vector y was passed when a 1d array was expected. Please change the shape of y to (n_samples, ), for example using ravel().\n",
      "  y = column_or_1d(y, warn=True)\n",
      "/usr/local/opt/pyenv/versions/anaconda3-4.0.0/lib/python3.5/site-packages/sklearn/utils/validation.py:515: DataConversionWarning: A column-vector y was passed when a 1d array was expected. Please change the shape of y to (n_samples, ), for example using ravel().\n",
      "  y = column_or_1d(y, warn=True)\n",
      "/usr/local/opt/pyenv/versions/anaconda3-4.0.0/lib/python3.5/site-packages/sklearn/utils/validation.py:515: DataConversionWarning: A column-vector y was passed when a 1d array was expected. Please change the shape of y to (n_samples, ), for example using ravel().\n",
      "  y = column_or_1d(y, warn=True)\n",
      "/usr/local/opt/pyenv/versions/anaconda3-4.0.0/lib/python3.5/site-packages/sklearn/utils/validation.py:515: DataConversionWarning: A column-vector y was passed when a 1d array was expected. Please change the shape of y to (n_samples, ), for example using ravel().\n",
      "  y = column_or_1d(y, warn=True)\n",
      "/usr/local/opt/pyenv/versions/anaconda3-4.0.0/lib/python3.5/site-packages/sklearn/utils/validation.py:515: DataConversionWarning: A column-vector y was passed when a 1d array was expected. Please change the shape of y to (n_samples, ), for example using ravel().\n",
      "  y = column_or_1d(y, warn=True)\n",
      "/usr/local/opt/pyenv/versions/anaconda3-4.0.0/lib/python3.5/site-packages/sklearn/utils/validation.py:515: DataConversionWarning: A column-vector y was passed when a 1d array was expected. Please change the shape of y to (n_samples, ), for example using ravel().\n",
      "  y = column_or_1d(y, warn=True)\n",
      "/usr/local/opt/pyenv/versions/anaconda3-4.0.0/lib/python3.5/site-packages/sklearn/utils/validation.py:515: DataConversionWarning: A column-vector y was passed when a 1d array was expected. Please change the shape of y to (n_samples, ), for example using ravel().\n",
      "  y = column_or_1d(y, warn=True)\n"
     ]
    },
    {
     "data": {
      "image/png": "[encoded data removed]",
      "text/plain": [
       "<matplotlib.figure.Figure at 0x114ba52b0>"
      ]
     },
     "metadata": {},
     "output_type": "display_data"
    }
   ],
   "source": [
    "# 描画の準備\n",
    "fig = plt.figure()\n",
    "ax = plt.subplot(111)\n",
    "\n",
    "# 各係数の色のリスト\n",
    "colors = ['blue', 'green', 'red', 'cyan', \n",
    "          'magenta', 'yellow', 'black', \n",
    "          'pink', 'lightgreen', 'lightblue', \n",
    "          'gray', 'indigo', 'orange']\n",
    "\n",
    "# 空のリストを作成（重み係数、逆正則化パラメータ）\n",
    "weights, params = [], []\n",
    "# 逆正則化パラメータの値ごとに処理\n",
    "for c in np.arange(-4, 6):\n",
    "    lr = LogisticRegression(penalty='l1', C=10**c, random_state=0)\n",
    "    lr.fit(X_train_std, y_train)\n",
    "    weights.append(lr.coef_[1])\n",
    "    params.append(10**c)\n",
    "\n",
    "# 各重み係数をNumPy配列に変換\n",
    "weights = np.array(weights)\n",
    "\n",
    "# 各重み係数をプロット\n",
    "for column, color in zip(range(weights.shape[1]), colors):\n",
    "    plt.plot(params, weights[:, column],\n",
    "             label=df_wine.columns[column + 1],\n",
    "             color=color)\n",
    "\n",
    "plt.axhline(0, color='black', linestyle='--', linewidth=3)\n",
    "plt.xlim([10**(-5), 10**5])\n",
    "plt.ylabel('weight coefficient')\n",
    "plt.xlabel('C')\n",
    "plt.xscale('log')\n",
    "plt.legend(loc='upper left')\n",
    "ax.legend(loc='upper center', \n",
    "          bbox_to_anchor=(1.38, 1.03),\n",
    "          ncol=1, fancybox=True)\n",
    "## plt.savefig('./figures/l1_path.png', dpi=300)\n",
    "plt.show()"
   ]
  },
  {
   "cell_type": "code",
   "execution_count": null,
   "metadata": {
    "collapsed": true
   },
   "outputs": [],
   "source": []
  }
 ],
 "metadata": {
  "kernelspec": {
   "display_name": "Python 3",
   "language": "python",
   "name": "python3"
  },
  "language_info": {
   "codemirror_mode": {
    "name": "ipython",
    "version": 3
   },
   "file_extension": ".py",
   "mimetype": "text/x-python",
   "name": "python",
   "nbconvert_exporter": "python",
   "pygments_lexer": "ipython3",
   "version": "3.5.2"
  }
 },
 "nbformat": 4,
 "nbformat_minor": 0
}
